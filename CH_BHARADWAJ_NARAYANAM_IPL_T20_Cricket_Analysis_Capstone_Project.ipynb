{
  "nbformat": 4,
  "nbformat_minor": 0,
  "metadata": {
    "colab": {
      "name": "CH - BHARADWAJ NARAYANAM - IPL T20 Cricket Analysis - Capstone Project.ipynb",
      "provenance": [],
      "collapsed_sections": [],
      "include_colab_link": true
    },
    "kernelspec": {
      "display_name": "Python 3",
      "language": "python",
      "name": "python3"
    },
    "language_info": {
      "codemirror_mode": {
        "name": "ipython",
        "version": 3
      },
      "file_extension": ".py",
      "mimetype": "text/x-python",
      "name": "python",
      "nbconvert_exporter": "python",
      "pygments_lexer": "ipython3",
      "version": "3.6.6"
    }
  },
  "cells": [
    {
      "cell_type": "markdown",
      "metadata": {
        "id": "view-in-github",
        "colab_type": "text"
      },
      "source": [
        "<a href=\"https://colab.research.google.com/github/bharadwaj-narayanam/IPL-data-analysis/blob/main/CH_BHARADWAJ_NARAYANAM_IPL_T20_Cricket_Analysis_Capstone_Project.ipynb\" target=\"_parent\"><img src=\"https://colab.research.google.com/assets/colab-badge.svg\" alt=\"Open In Colab\"/></a>"
      ]
    },
    {
      "cell_type": "markdown",
      "metadata": {
        "id": "Y06xIdG26kRF"
      },
      "source": [
        "## <b> Indian Premier League(IPL) is a professional Twenty20 cricket league in India contested during March or April and May of every year by eight teams representing eight different cities in India. The league was founded by the Board of Control for Cricket in India(BCCI) in 2008. </b>\n",
        "\n",
        "## <b> Explore and analyze the data to discover results and statistics for different teams playing in IPL. </b>"
      ]
    },
    {
      "cell_type": "code",
      "metadata": {
        "id": "UdhuZCvqNGPM",
        "colab": {
          "base_uri": "https://localhost:8080/"
        },
        "outputId": "5c141cfd-a7d0-4ed0-aedb-11034ebd22d6"
      },
      "source": [
        "from google.colab import drive\n",
        "drive.mount('/content/drive')"
      ],
      "execution_count": 7,
      "outputs": [
        {
          "output_type": "stream",
          "text": [
            "Drive already mounted at /content/drive; to attempt to forcibly remount, call drive.mount(\"/content/drive\", force_remount=True).\n"
          ],
          "name": "stdout"
        }
      ]
    },
    {
      "cell_type": "code",
      "metadata": {
        "id": "dByMsuzT8Tnw"
      },
      "source": [
        "import pandas as pd\n",
        "import numpy as np\n",
        "import matplotlib.pyplot as plt"
      ],
      "execution_count": 8,
      "outputs": []
    },
    {
      "cell_type": "code",
      "metadata": {
        "id": "MkzpO4MVNkgL"
      },
      "source": [
        "teams = pd.read_csv(\"/content/drive/MyDrive/Almabetter Data/IPL Data/teams.csv\")\n",
        "matches = pd.read_csv(\"/content/drive/MyDrive/Almabetter Data/IPL Data/matches.csv\",parse_dates=['date'])\n",
        "teamwise_home_and_away = pd.read_csv('/content/drive/MyDrive/Almabetter Data/IPL Data/teamwise_home_and_away.csv')\n",
        "mostRuns_avg_strikerate = pd.read_csv(\"/content/drive/MyDrive/Almabetter Data/IPL Data/most_runs_average_strikerate.csv\")\n",
        "deliveries = pd.read_csv(\"/content/drive/MyDrive/Almabetter Data/IPL Data/deliveries.csv\")\n",
        "players = pd.read_excel(\"/content/drive/MyDrive/Almabetter Data/IPL Data/Players.xlsx\")"
      ],
      "execution_count": 9,
      "outputs": []
    },
    {
      "cell_type": "markdown",
      "metadata": {
        "id": "dLd3A8OeP-yF"
      },
      "source": [
        "### Teams\n",
        "Contain the names of all the teams.\n",
        "### Matches\n",
        "Details of all matches from 2017-2019\n",
        "### teamwise_home_and_away\n",
        "details of the team winning at home and away\n",
        "### mostRuns_avg_strikerate\n",
        "Details of batsman, total_runs, outs, number_of_balls, average, strikerate\n",
        "### deliveries\n",
        "Details of every ball delivered \n",
        "### Players\n",
        "Player details"
      ]
    },
    {
      "cell_type": "code",
      "metadata": {
        "id": "-yujgY2H7Yiq"
      },
      "source": [
        "dict_ = {}\n",
        "for i in matches['date'].dt.year.unique():\n",
        "  df = pd.DataFrame(matches[matches['date'].dt.year == i]['winner'].replace({'Mumbai Indians':\"MI\",\n",
        "                                                                             'Rising Pune Supergiant':\"RPS\",\n",
        "                                                                             'Rising Pune Supergiants':\"RPS\",\n",
        "                                                                             'Kolkata Knight Riders':\"KKR\",\n",
        "                                                                             'Sunrisers Hyderabad':\"SRH\",\n",
        "                                                                             'Kings XI Punjab':\"KXIP\",\n",
        "                                                                             'Delhi Daredevils':\"DD\",\n",
        "                                                                             'Gujarat Lions':\"GL\",\n",
        "                                                                             'Royal Challengers Bangalore':\"RCB\",\n",
        "                                                                             'Chennai Super Kings':\"CSK\",\n",
        "                                                                             'Rajasthan Royals':\"RR\",\n",
        "                                                                             'Delhi Capitals':\"DC\",\n",
        "                                                                             'Deccan Chargers': \"DEC CH\",\n",
        "                                                                             'Kochi Tuskers Kerala':\"KTK\",\n",
        "                                                                             'Pune Warriors':\"PW\"}).value_counts())\n",
        "  dict_[i] = {}\n",
        "  for k in df.index:\n",
        "    if k not in list(dict_[i].keys()):\n",
        "      dict_[i][k] = df.loc[k,'winner']"
      ],
      "execution_count": 66,
      "outputs": []
    },
    {
      "cell_type": "code",
      "metadata": {
        "id": "J8byZoijhYd6"
      },
      "source": [
        "no_of_times_won = pd.DataFrame(dict_).fillna(0)"
      ],
      "execution_count": 132,
      "outputs": []
    },
    {
      "cell_type": "code",
      "metadata": {
        "id": "LOFy4ppStcQq"
      },
      "source": [
        "no_of_times_won = no_of_times_won.T\n",
        "no_of_times_won.sort_index(inplace=True)"
      ],
      "execution_count": 134,
      "outputs": []
    },
    {
      "cell_type": "code",
      "metadata": {
        "colab": {
          "base_uri": "https://localhost:8080/",
          "height": 406
        },
        "id": "iWsKgVpUc1ek",
        "outputId": "f3d5e21b-a735-49a3-a797-f7e54f20e06a"
      },
      "source": [
        "no_of_times_won.plot(kind=\"bar\", stacked=True, figsize = (15,6))\n",
        "plt.legend(bbox_to_anchor = (1, 1))\n",
        "plt.ylabel(\"No.of matches won\")"
      ],
      "execution_count": 136,
      "outputs": [
        {
          "output_type": "execute_result",
          "data": {
            "text/plain": [
              "Text(0, 0.5, 'No.of matches won')"
            ]
          },
          "metadata": {
            "tags": []
          },
          "execution_count": 136
        },
        {
          "output_type": "display_data",
          "data": {
            "image/png": "[encoded data removed]",
            "text/plain": [
              "<Figure size 1080x432 with 1 Axes>"
            ]
          },
          "metadata": {
            "tags": [],
            "needs_background": "light"
          }
        }
      ]
    },
    {
      "cell_type": "markdown",
      "metadata": {
        "id": "yJ2Ds3OL7jF2"
      },
      "source": [
        "# Toss winning effect on actual winning of the match"
      ]
    },
    {
      "cell_type": "code",
      "metadata": {
        "id": "ASxIVpxZaWPz"
      },
      "source": [
        "matches['year'] = matches['date'].dt.year"
      ],
      "execution_count": 12,
      "outputs": []
    },
    {
      "cell_type": "code",
      "metadata": {
        "id": "z6yhT31gePaJ"
      },
      "source": [
        "toss = {}\n",
        "for i in matches['year'].unique():\n",
        "  df = pd.DataFrame(matches[matches['date'].dt.year == i]['winner'].value_counts())\n",
        "  df1 = pd.DataFrame(matches[matches['year']==i]['toss_winner'].value_counts())\n",
        "  df['toss_winner'] = df1['toss_winner']\n",
        "  # toss.iloc[j,'Year'],toss.iloc[j,'Pearson Correlation'] = i,df.corr().iloc[0,1]\n",
        "  toss[i] = df.corr().iloc[0,1]\n",
        "  # toss['Pearson Correlation'] = df.corr().iloc[0,1]"
      ],
      "execution_count": 40,
      "outputs": []
    },
    {
      "cell_type": "code",
      "metadata": {
        "id": "VKbc1tC9X7W3"
      },
      "source": [
        "toss = pd.DataFrame([toss]).T\n",
        "toss.rename({0:\"Pearson Correlation\"},axis=1,inplace=True)"
      ],
      "execution_count": 41,
      "outputs": []
    },
    {
      "cell_type": "code",
      "metadata": {
        "id": "a8cb3RNfYb6i"
      },
      "source": [
        "toss.sort_index(inplace=True)\n",
        "toss"
      ],
      "execution_count": null,
      "outputs": []
    },
    {
      "cell_type": "code",
      "metadata": {
        "colab": {
          "base_uri": "https://localhost:8080/",
          "height": 352
        },
        "id": "f0hF4u1pZLic",
        "outputId": "8bcc90bf-b947-47f5-fbf7-cac8fea6057c"
      },
      "source": [
        "my_colors = 'rgb'\n",
        "toss.plot(kind='bar',color = my_colors)"
      ],
      "execution_count": 54,
      "outputs": [
        {
          "output_type": "stream",
          "text": [
            "/usr/local/lib/python3.7/dist-packages/pandas/plotting/_matplotlib/core.py:1373: MatplotlibDeprecationWarning: Using a string of single character colors as a color sequence is deprecated. Use an explicit list instead.\n",
            "  return ax.bar(x, y, w, bottom=start, log=log, **kwds)\n"
          ],
          "name": "stderr"
        },
        {
          "output_type": "execute_result",
          "data": {
            "text/plain": [
              "<matplotlib.axes._subplots.AxesSubplot at 0x7f6ea9138f90>"
            ]
          },
          "metadata": {
            "tags": []
          },
          "execution_count": 54
        },
        {
          "output_type": "display_data",
          "data": {
            "image/png": "[encoded data removed]",
            "text/plain": [
              "<Figure size 432x288 with 1 Axes>"
            ]
          },
          "metadata": {
            "tags": [],
            "needs_background": "light"
          }
        }
      ]
    },
    {
      "cell_type": "code",
      "metadata": {
        "id": "8HClMMs7bhwE"
      },
      "source": [
        ""
      ],
      "execution_count": null,
      "outputs": []
    },
    {
      "cell_type": "markdown",
      "metadata": {
        "id": "6dBRmR0hfCOS"
      },
      "source": [
        "# Now that we know which teams won the most matches in three seasons, let us compare each and every aspect of the leading team with the other teams."
      ]
    },
    {
      "cell_type": "markdown",
      "metadata": {
        "id": "hPoT9NU-eTVL"
      },
      "source": [
        "### Let us analyse the boundaries hit by all teams in 2017 and compare it with MI. This is to compare the strength of hard hitters of MI and other teams.\n",
        "\n",
        "### Also compare ones, twos and three's to get an idea of batsman coordination."
      ]
    },
    {
      "cell_type": "code",
      "metadata": {
        "id": "iLjoljVAqQ-I"
      },
      "source": [
        "def bdrs_1_2_3_4_6(match_id):\n",
        "  '''Returns Total boundaries, Boundaries at death and ones, twos and threes by both teams if year and match id are given as arguments'''\n",
        "  \n",
        "  year = int(matches['Season'][matches['id']==match_id].iloc[0][-4:])\n",
        "  first_match = deliveries[deliveries['match_id'].isin(matches[matches['date'].dt.year == year]['id'])][deliveries[deliveries['match_id'].isin(matches[matches['date'].dt.year == year]['id'])]['match_id']==match_id]\n",
        "  first_match.reset_index(drop=True,inplace=True)\n",
        "  boundary_count = {}\n",
        "  one_2_3_count = {}\n",
        "  for i in range(len(first_match)):\n",
        "    if first_match.loc[i,'batsman_runs'] >= 4:\n",
        "      if first_match.loc[i,'batting_team'] in list(boundary_count.keys()):\n",
        "        boundary_count[first_match.loc[i,'batting_team']] = boundary_count[first_match.loc[i,'batting_team']] + 1\n",
        "      else:\n",
        "        boundary_count[first_match.loc[i,'batting_team']] = 1\n",
        "    elif first_match.loc[i,'batsman_runs']==1:\n",
        "      if first_match.loc[i,'batting_team'] in list(one_2_3_count.keys()):\n",
        "        if 'Ones' in list(one_2_3_count[first_match.loc[i,'batting_team']].keys()):\n",
        "          one_2_3_count[first_match.loc[i,'batting_team']][\"Ones\"] = one_2_3_count[first_match.loc[i,'batting_team']][\"Ones\"]+1\n",
        "        else:\n",
        "          one_2_3_count[first_match.loc[i,'batting_team']][\"Ones\"] = 1\n",
        "      else:\n",
        "        one_2_3_count[first_match.loc[i,'batting_team']] = {\"Ones\":1}\n",
        "    elif first_match.loc[i,'batsman_runs']==2:\n",
        "      if first_match.loc[i,'batting_team'] in list(one_2_3_count.keys()):\n",
        "        if 'Twos' in list(one_2_3_count[first_match.loc[i,'batting_team']].keys()):\n",
        "          one_2_3_count[first_match.loc[i,'batting_team']][\"Twos\"] = one_2_3_count[first_match.loc[i,'batting_team']][\"Twos\"]+1\n",
        "        else:\n",
        "          one_2_3_count[first_match.loc[i,'batting_team']][\"Twos\"] = 1\n",
        "      else:\n",
        "        one_2_3_count[first_match.loc[i,'batting_team']] = {\"Twos\":1}\n",
        "    elif first_match.loc[i,'batsman_runs']==3:\n",
        "      if first_match.loc[i,'batting_team'] in list(one_2_3_count.keys()):\n",
        "        if 'Threes' in list(one_2_3_count[first_match.loc[i,'batting_team']].keys()):\n",
        "          one_2_3_count[first_match.loc[i,'batting_team']][\"Threes\"] = one_2_3_count[first_match.loc[i,'batting_team']][\"Threes\"]+1\n",
        "        else:\n",
        "          one_2_3_count[first_match.loc[i,'batting_team']][\"Threes\"] = 1\n",
        "      else:\n",
        "        one_2_3_count[first_match.loc[i,'batting_team']] = {\"Threes\":1}\n",
        "    else:\n",
        "      pass\n",
        "  \n",
        "  for i in list(one_2_3_count.keys()):\n",
        "    if 'Ones' not in one_2_3_count[i]:\n",
        "      one_2_3_count[i]['Ones'] = 0\n",
        "    if 'Twos' not in one_2_3_count[i]:\n",
        "      one_2_3_count[i]['Twos'] = 0\n",
        "    if 'Threes' not in one_2_3_count[i]:\n",
        "      one_2_3_count[i]['Threes'] = 0\n",
        "\n",
        "\n",
        "  boundaries_at_death = {}\n",
        "  for i in range(len(first_match)):\n",
        "    if first_match.loc[i,'over'] >= 16:\n",
        "      if first_match.loc[i,'batsman_runs'] >= 4:\n",
        "        if first_match.loc[i,'batting_team'] in list(boundaries_at_death.keys()):\n",
        "          boundaries_at_death[first_match.loc[i,'batting_team']] = boundaries_at_death[first_match.loc[i,'batting_team']] + 1\n",
        "        else:\n",
        "          boundaries_at_death[first_match.loc[i,'batting_team']] = 1\n",
        "\n",
        "  return ({\"Year\":year},{\"Total boundaries\":boundary_count},{\"boundaries at death\":boundaries_at_death},{\"Ones_twos_threes\":one_2_3_count},{\"winner\":matches[matches['id'] == match_id]['winner'].iloc[0]})"
      ],
      "execution_count": null,
      "outputs": []
    },
    {
      "cell_type": "code",
      "metadata": {
        "colab": {
          "base_uri": "https://localhost:8080/"
        },
        "id": "dyMisr27Mbkw",
        "outputId": "35a61c61-2bcd-4e51-b348-c47d69029bfb"
      },
      "source": [
        "bdrs_1_2_3_4_6(1)"
      ],
      "execution_count": null,
      "outputs": [
        {
          "output_type": "execute_result",
          "data": {
            "text/plain": [
              "({'Year': 2017},\n",
              " {'Total boundaries': {'Royal Challengers Bangalore': 23,\n",
              "   'Sunrisers Hyderabad': 26}},\n",
              " {'boundaries at death': {'Royal Challengers Bangalore': 4,\n",
              "   'Sunrisers Hyderabad': 7}},\n",
              " {'Ones_twos_threes': {'Royal Challengers Bangalore': {'Ones': 44,\n",
              "    'Threes': 0,\n",
              "    'Twos': 7},\n",
              "   'Sunrisers Hyderabad': {'Ones': 57, 'Threes': 1, 'Twos': 9}}},\n",
              " {'winner': 'Sunrisers Hyderabad'})"
            ]
          },
          "metadata": {
            "tags": []
          },
          "execution_count": 237
        }
      ]
    },
    {
      "cell_type": "code",
      "metadata": {
        "colab": {
          "base_uri": "https://localhost:8080/",
          "height": 813
        },
        "id": "agJpYt87idNO",
        "outputId": "7ab3e9f3-cfda-4841-e9f7-446ed3d765c0"
      },
      "source": [
        "deliveries"
      ],
      "execution_count": null,
      "outputs": [
        {
          "output_type": "execute_result",
          "data": {
            "text/html": [
              "<div>\n",
              "<style scoped>\n",
              "    .dataframe tbody tr th:only-of-type {\n",
              "        vertical-align: middle;\n",
              "    }\n",
              "\n",
              "    .dataframe tbody tr th {\n",
              "        vertical-align: top;\n",
              "    }\n",
              "\n",
              "    .dataframe thead th {\n",
              "        text-align: right;\n",
              "    }\n",
              "</style>\n",
              "<table border=\"1\" class=\"dataframe\">\n",
              "  <thead>\n",
              "    <tr style=\"text-align: right;\">\n",
              "      <th></th>\n",
              "      <th>id</th>\n",
              "      <th>Season</th>\n",
              "      <th>city</th>\n",
              "      <th>date</th>\n",
              "      <th>team1</th>\n",
              "      <th>team2</th>\n",
              "      <th>toss_winner</th>\n",
              "      <th>toss_decision</th>\n",
              "      <th>result</th>\n",
              "      <th>dl_applied</th>\n",
              "      <th>winner</th>\n",
              "      <th>win_by_runs</th>\n",
              "      <th>win_by_wickets</th>\n",
              "      <th>player_of_match</th>\n",
              "      <th>venue</th>\n",
              "      <th>umpire1</th>\n",
              "      <th>umpire2</th>\n",
              "      <th>umpire3</th>\n",
              "      <th>year</th>\n",
              "    </tr>\n",
              "  </thead>\n",
              "  <tbody>\n",
              "    <tr>\n",
              "      <th>0</th>\n",
              "      <td>1</td>\n",
              "      <td>IPL-2017</td>\n",
              "      <td>Hyderabad</td>\n",
              "      <td>2017-05-04</td>\n",
              "      <td>Sunrisers Hyderabad</td>\n",
              "      <td>Royal Challengers Bangalore</td>\n",
              "      <td>Royal Challengers Bangalore</td>\n",
              "      <td>field</td>\n",
              "      <td>normal</td>\n",
              "      <td>0</td>\n",
              "      <td>Sunrisers Hyderabad</td>\n",
              "      <td>35</td>\n",
              "      <td>0</td>\n",
              "      <td>Yuvraj Singh</td>\n",
              "      <td>Rajiv Gandhi International Stadium, Uppal</td>\n",
              "      <td>AY Dandekar</td>\n",
              "      <td>NJ Llong</td>\n",
              "      <td>NaN</td>\n",
              "      <td>2017</td>\n",
              "    </tr>\n",
              "    <tr>\n",
              "      <th>1</th>\n",
              "      <td>2</td>\n",
              "      <td>IPL-2017</td>\n",
              "      <td>Pune</td>\n",
              "      <td>2017-06-04</td>\n",
              "      <td>Mumbai Indians</td>\n",
              "      <td>Rising Pune Supergiant</td>\n",
              "      <td>Rising Pune Supergiant</td>\n",
              "      <td>field</td>\n",
              "      <td>normal</td>\n",
              "      <td>0</td>\n",
              "      <td>Rising Pune Supergiant</td>\n",
              "      <td>0</td>\n",
              "      <td>7</td>\n",
              "      <td>SPD Smith</td>\n",
              "      <td>Maharashtra Cricket Association Stadium</td>\n",
              "      <td>A Nand Kishore</td>\n",
              "      <td>S Ravi</td>\n",
              "      <td>NaN</td>\n",
              "      <td>2017</td>\n",
              "    </tr>\n",
              "    <tr>\n",
              "      <th>2</th>\n",
              "      <td>3</td>\n",
              "      <td>IPL-2017</td>\n",
              "      <td>Rajkot</td>\n",
              "      <td>2017-07-04</td>\n",
              "      <td>Gujarat Lions</td>\n",
              "      <td>Kolkata Knight Riders</td>\n",
              "      <td>Kolkata Knight Riders</td>\n",
              "      <td>field</td>\n",
              "      <td>normal</td>\n",
              "      <td>0</td>\n",
              "      <td>Kolkata Knight Riders</td>\n",
              "      <td>0</td>\n",
              "      <td>10</td>\n",
              "      <td>CA Lynn</td>\n",
              "      <td>Saurashtra Cricket Association Stadium</td>\n",
              "      <td>Nitin Menon</td>\n",
              "      <td>CK Nandan</td>\n",
              "      <td>NaN</td>\n",
              "      <td>2017</td>\n",
              "    </tr>\n",
              "    <tr>\n",
              "      <th>3</th>\n",
              "      <td>4</td>\n",
              "      <td>IPL-2017</td>\n",
              "      <td>Indore</td>\n",
              "      <td>2017-08-04</td>\n",
              "      <td>Rising Pune Supergiant</td>\n",
              "      <td>Kings XI Punjab</td>\n",
              "      <td>Kings XI Punjab</td>\n",
              "      <td>field</td>\n",
              "      <td>normal</td>\n",
              "      <td>0</td>\n",
              "      <td>Kings XI Punjab</td>\n",
              "      <td>0</td>\n",
              "      <td>6</td>\n",
              "      <td>GJ Maxwell</td>\n",
              "      <td>Holkar Cricket Stadium</td>\n",
              "      <td>AK Chaudhary</td>\n",
              "      <td>C Shamshuddin</td>\n",
              "      <td>NaN</td>\n",
              "      <td>2017</td>\n",
              "    </tr>\n",
              "    <tr>\n",
              "      <th>4</th>\n",
              "      <td>5</td>\n",
              "      <td>IPL-2017</td>\n",
              "      <td>Bangalore</td>\n",
              "      <td>2017-08-04</td>\n",
              "      <td>Royal Challengers Bangalore</td>\n",
              "      <td>Delhi Daredevils</td>\n",
              "      <td>Royal Challengers Bangalore</td>\n",
              "      <td>bat</td>\n",
              "      <td>normal</td>\n",
              "      <td>0</td>\n",
              "      <td>Royal Challengers Bangalore</td>\n",
              "      <td>15</td>\n",
              "      <td>0</td>\n",
              "      <td>KM Jadhav</td>\n",
              "      <td>M Chinnaswamy Stadium</td>\n",
              "      <td>NaN</td>\n",
              "      <td>NaN</td>\n",
              "      <td>NaN</td>\n",
              "      <td>2017</td>\n",
              "    </tr>\n",
              "    <tr>\n",
              "      <th>...</th>\n",
              "      <td>...</td>\n",
              "      <td>...</td>\n",
              "      <td>...</td>\n",
              "      <td>...</td>\n",
              "      <td>...</td>\n",
              "      <td>...</td>\n",
              "      <td>...</td>\n",
              "      <td>...</td>\n",
              "      <td>...</td>\n",
              "      <td>...</td>\n",
              "      <td>...</td>\n",
              "      <td>...</td>\n",
              "      <td>...</td>\n",
              "      <td>...</td>\n",
              "      <td>...</td>\n",
              "      <td>...</td>\n",
              "      <td>...</td>\n",
              "      <td>...</td>\n",
              "      <td>...</td>\n",
              "    </tr>\n",
              "    <tr>\n",
              "      <th>751</th>\n",
              "      <td>11347</td>\n",
              "      <td>IPL-2019</td>\n",
              "      <td>Mumbai</td>\n",
              "      <td>2019-05-05</td>\n",
              "      <td>Kolkata Knight Riders</td>\n",
              "      <td>Mumbai Indians</td>\n",
              "      <td>Mumbai Indians</td>\n",
              "      <td>field</td>\n",
              "      <td>normal</td>\n",
              "      <td>0</td>\n",
              "      <td>Mumbai Indians</td>\n",
              "      <td>0</td>\n",
              "      <td>9</td>\n",
              "      <td>HH Pandya</td>\n",
              "      <td>Wankhede Stadium</td>\n",
              "      <td>Nanda Kishore</td>\n",
              "      <td>O Nandan</td>\n",
              "      <td>S Ravi</td>\n",
              "      <td>2019</td>\n",
              "    </tr>\n",
              "    <tr>\n",
              "      <th>752</th>\n",
              "      <td>11412</td>\n",
              "      <td>IPL-2019</td>\n",
              "      <td>Chennai</td>\n",
              "      <td>2019-07-05</td>\n",
              "      <td>Chennai Super Kings</td>\n",
              "      <td>Mumbai Indians</td>\n",
              "      <td>Chennai Super Kings</td>\n",
              "      <td>bat</td>\n",
              "      <td>normal</td>\n",
              "      <td>0</td>\n",
              "      <td>Mumbai Indians</td>\n",
              "      <td>0</td>\n",
              "      <td>6</td>\n",
              "      <td>AS Yadav</td>\n",
              "      <td>M. A. Chidambaram Stadium</td>\n",
              "      <td>Nigel Llong</td>\n",
              "      <td>Nitin Menon</td>\n",
              "      <td>Ian Gould</td>\n",
              "      <td>2019</td>\n",
              "    </tr>\n",
              "    <tr>\n",
              "      <th>753</th>\n",
              "      <td>11413</td>\n",
              "      <td>IPL-2019</td>\n",
              "      <td>Visakhapatnam</td>\n",
              "      <td>2019-08-05</td>\n",
              "      <td>Sunrisers Hyderabad</td>\n",
              "      <td>Delhi Capitals</td>\n",
              "      <td>Delhi Capitals</td>\n",
              "      <td>field</td>\n",
              "      <td>normal</td>\n",
              "      <td>0</td>\n",
              "      <td>Delhi Capitals</td>\n",
              "      <td>0</td>\n",
              "      <td>2</td>\n",
              "      <td>RR Pant</td>\n",
              "      <td>ACA-VDCA Stadium</td>\n",
              "      <td>NaN</td>\n",
              "      <td>NaN</td>\n",
              "      <td>NaN</td>\n",
              "      <td>2019</td>\n",
              "    </tr>\n",
              "    <tr>\n",
              "      <th>754</th>\n",
              "      <td>11414</td>\n",
              "      <td>IPL-2019</td>\n",
              "      <td>Visakhapatnam</td>\n",
              "      <td>2019-10-05</td>\n",
              "      <td>Delhi Capitals</td>\n",
              "      <td>Chennai Super Kings</td>\n",
              "      <td>Chennai Super Kings</td>\n",
              "      <td>field</td>\n",
              "      <td>normal</td>\n",
              "      <td>0</td>\n",
              "      <td>Chennai Super Kings</td>\n",
              "      <td>0</td>\n",
              "      <td>6</td>\n",
              "      <td>F du Plessis</td>\n",
              "      <td>ACA-VDCA Stadium</td>\n",
              "      <td>Sundaram Ravi</td>\n",
              "      <td>Bruce Oxenford</td>\n",
              "      <td>Chettithody Shamshuddin</td>\n",
              "      <td>2019</td>\n",
              "    </tr>\n",
              "    <tr>\n",
              "      <th>755</th>\n",
              "      <td>11415</td>\n",
              "      <td>IPL-2019</td>\n",
              "      <td>Hyderabad</td>\n",
              "      <td>2019-12-05</td>\n",
              "      <td>Mumbai Indians</td>\n",
              "      <td>Chennai Super Kings</td>\n",
              "      <td>Mumbai Indians</td>\n",
              "      <td>bat</td>\n",
              "      <td>normal</td>\n",
              "      <td>0</td>\n",
              "      <td>Mumbai Indians</td>\n",
              "      <td>1</td>\n",
              "      <td>0</td>\n",
              "      <td>JJ Bumrah</td>\n",
              "      <td>Rajiv Gandhi Intl. Cricket Stadium</td>\n",
              "      <td>Nitin Menon</td>\n",
              "      <td>Ian Gould</td>\n",
              "      <td>Nigel Llong</td>\n",
              "      <td>2019</td>\n",
              "    </tr>\n",
              "  </tbody>\n",
              "</table>\n",
              "<p>756 rows × 19 columns</p>\n",
              "</div>"
            ],
            "text/plain": [
              "        id    Season  ...                  umpire3  year\n",
              "0        1  IPL-2017  ...                      NaN  2017\n",
              "1        2  IPL-2017  ...                      NaN  2017\n",
              "2        3  IPL-2017  ...                      NaN  2017\n",
              "3        4  IPL-2017  ...                      NaN  2017\n",
              "4        5  IPL-2017  ...                      NaN  2017\n",
              "..     ...       ...  ...                      ...   ...\n",
              "751  11347  IPL-2019  ...                   S Ravi  2019\n",
              "752  11412  IPL-2019  ...                Ian Gould  2019\n",
              "753  11413  IPL-2019  ...                      NaN  2019\n",
              "754  11414  IPL-2019  ...  Chettithody Shamshuddin  2019\n",
              "755  11415  IPL-2019  ...              Nigel Llong  2019\n",
              "\n",
              "[756 rows x 19 columns]"
            ]
          },
          "metadata": {
            "tags": []
          },
          "execution_count": 259
        }
      ]
    }
  ]
}