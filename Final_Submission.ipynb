{
  "nbformat": 4,
  "nbformat_minor": 0,
  "metadata": {
    "colab": {
      "name": "Final Submission.ipynb",
      "provenance": [],
      "authorship_tag": "ABX9TyMsohEn4lhW5HAZcG80Ps4o",
      "include_colab_link": true
    },
    "kernelspec": {
      "name": "python3",
      "display_name": "Python 3"
    },
    "language_info": {
      "name": "python"
    }
  },
  "cells": [
    {
      "cell_type": "markdown",
      "metadata": {
        "id": "view-in-github",
        "colab_type": "text"
      },
      "source": [
        "<a href=\"https://colab.research.google.com/github/bharadwaj-narayanam/IPL-data-analysis/blob/main/Final_Submission.ipynb\" target=\"_parent\"><img src=\"https://colab.research.google.com/assets/colab-badge.svg\" alt=\"Open In Colab\"/></a>"
      ]
    },
    {
      "cell_type": "markdown",
      "metadata": {
        "id": "2gFead8fEjv5"
      },
      "source": [
        "Indian Premier League(IPL) is a professional Twenty20 cricket league in India contested during March or April and May of every year by eight teams representing eight different cities in India. The league was founded by the Board of Control for Cricket in India(BCCI) in 2008.\n",
        "Explore and analyze the data to discover results and statistics for different teams playing in IPL."
      ]
    },
    {
      "cell_type": "code",
      "metadata": {
        "colab": {
          "base_uri": "https://localhost:8080/"
        },
        "id": "JyfdmJQjEazS",
        "outputId": "716ca51c-79ec-4bca-cbdd-e97d2ea0837d"
      },
      "source": [
        "from google.colab import drive\n",
        "drive.mount('/content/drive')"
      ],
      "execution_count": 1,
      "outputs": [
        {
          "output_type": "stream",
          "text": [
            "Mounted at /content/drive\n"
          ],
          "name": "stdout"
        }
      ]
    },
    {
      "cell_type": "code",
      "metadata": {
        "id": "P6CYKeFQOd_t"
      },
      "source": [
        "import pandas as pd\n",
        "import numpy as np\n",
        "import matplotlib.pyplot as plt"
      ],
      "execution_count": 2,
      "outputs": []
    },
    {
      "cell_type": "code",
      "metadata": {
        "id": "xLNLTO5cOg5p"
      },
      "source": [
        "teams = pd.read_csv(\"/content/drive/MyDrive/Almabetter Data/IPL Data/teams.csv\")\n",
        "matches = pd.read_csv(\"/content/drive/MyDrive/Almabetter Data/IPL Data/matches.csv\",parse_dates=['date'])\n",
        "teamwise_home_and_away = pd.read_csv('/content/drive/MyDrive/Almabetter Data/IPL Data/teamwise_home_and_away.csv')\n",
        "mostRuns_avg_strikerate = pd.read_csv(\"/content/drive/MyDrive/Almabetter Data/IPL Data/most_runs_average_strikerate.csv\")\n",
        "deliveries = pd.read_csv(\"/content/drive/MyDrive/Almabetter Data/IPL Data/deliveries.csv\")\n",
        "players = pd.read_excel(\"/content/drive/MyDrive/Almabetter Data/IPL Data/Players.xlsx\")"
      ],
      "execution_count": 3,
      "outputs": []
    },
    {
      "cell_type": "markdown",
      "metadata": {
        "id": "QJh1_MpsOq8Q"
      },
      "source": [
        "### Teams\n",
        "Contain the names of all the teams.\n",
        "### Matches\n",
        "Details of all matches from 2017-2019\n",
        "### teamwise_home_and_away\n",
        "details of the team winning at home and away\n",
        "### mostRuns_avg_strikerate\n",
        "Details of batsman, total_runs, outs, number_of_balls, average, strikerate\n",
        "### deliveries\n",
        "Details of every ball delivered \n",
        "### Players\n",
        "Player details"
      ]
    },
    {
      "cell_type": "markdown",
      "metadata": {
        "id": "A1q7Ff6SO4Bq"
      },
      "source": [
        "# At first we will make a visualization of "
      ]
    },
    {
      "cell_type": "code",
      "metadata": {
        "id": "OqHUgqaYOmej"
      },
      "source": [
        ""
      ],
      "execution_count": null,
      "outputs": []
    }
  ]
}